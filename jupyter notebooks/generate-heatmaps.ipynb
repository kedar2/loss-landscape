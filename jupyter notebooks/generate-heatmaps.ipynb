{
 "cells": [
  {
   "cell_type": "code",
   "execution_count": 483,
   "id": "3c2fbc75",
   "metadata": {},
   "outputs": [],
   "source": [
    "import numpy as np\n",
    "import seaborn as sns\n",
    "from matplotlib import pyplot as plt\n",
    "from scipy import linalg\n",
    "from scipy.optimize import linprog\n",
    "from numpy.linalg import matrix_rank as rank\n",
    "import torch"
   ]
  },
  {
   "cell_type": "code",
   "execution_count": 484,
   "id": "41b4dad3",
   "metadata": {},
   "outputs": [],
   "source": [
    "# Models\n",
    "import sys\n",
    "sys.path.append(\"..\")\n",
    "from models import MLP\n",
    "from metrics import jacobian\n",
    "from data_generation import RandomPolynomialMapping"
   ]
  },
  {
   "cell_type": "code",
   "execution_count": 549,
   "id": "5d1c10ec",
   "metadata": {},
   "outputs": [],
   "source": [
    "def check_global(A,v,X,y,d0,d1,n):\n",
    "    \"\"\"\n",
    "    Solves a linear program to check if there exists a global solution to the optimization program\n",
    "    within a given region.\n",
    "    \n",
    "    Inputs:\n",
    "    - A is an (d1 x n) binary array representing the preactivation positive activations\n",
    "    - v is a (d1 x1) array holding the output weights of the network\n",
    "    - X is an (d0, n) array holding the data features\n",
    "    - y is an (n,1) array holding the data targets\n",
    "    \n",
    "    \"\"\"\n",
    "    B = -2*A+1\n",
    "    Eq = np.zeros((n, d0*d1))\n",
    "    Iq = np.zeros((n*d1, d0*d1))\n",
    "    # Form equality and inequality matrices for linear program\n",
    "    for i in range(n):\n",
    "        x = X[:,i]\n",
    "        for j in range(d1):\n",
    "            start = j*d0\n",
    "            end = (j+1)*d0\n",
    "            Iq[(i*d1)+j,start:end]=B[j,i]*x\n",
    "            Eq[i,start:end]=v[j]*A[j,i]*x\n",
    "    results = linprog(np.zeros(d0*d1), A_ub=Iq, b_ub=np.zeros(n*d1), A_eq=Eq, b_eq=y)\n",
    "#     print(results.message)\n",
    "    return results.success, results.status\n",
    "\n",
    "# options={\"rr_method\":\"pivot\", }"
   ]
  },
  {
   "cell_type": "code",
   "execution_count": 550,
   "id": "e45121fc",
   "metadata": {},
   "outputs": [],
   "source": [
    "def generate_gauss_data(d0, n):\n",
    "    X = np.random.randn(n,d0)\n",
    "    y = np.random.randn(n, 1)\n",
    "    X = torch.from_numpy(X).float()\n",
    "    y = torch.from_numpy(y).float()\n",
    "    return X, y\n",
    "\n",
    "def generate_uniform_data(d0, n):\n",
    "    X = 2*np.random.rand(n,d0)-1\n",
    "    y = 2*np.random.rand(n, 1)-1\n",
    "    X = torch.from_numpy(X).float()\n",
    "    y = torch.from_numpy(y).float()\n",
    "    return X, y\n",
    "\n",
    "def generate_teacher_student_data(d0, d1, d2, L, n, data_func):\n",
    "    model = MLP(d0, d1, d2, L)\n",
    "    X,_ = data_func(d0, n)\n",
    "    y = model(X).detach()\n",
    "    return X, y"
   ]
  },
  {
   "cell_type": "code",
   "execution_count": 551,
   "id": "b0bbc838",
   "metadata": {},
   "outputs": [],
   "source": [
    "# Rank functions for d = 1 case: here we uniformly sample non-empty activation regions\n",
    "# by sampling mutually iid step rows uniformly at random\n",
    "# Sample step row\n",
    "def sample_step_vector(n):\n",
    "    \"\"\"\n",
    "    Samples a step vector drawn uniformly at random.\n",
    "    Inputs:\n",
    "        - n is the row length / number of samples in the training set\n",
    "    Outputs:\n",
    "        - a step vector\n",
    "    \"\"\"\n",
    "    pos = np.random.randint(n, size=1)[0]\n",
    "    row = np.concatenate((np.zeros(pos, dtype = bool), np.ones(n-pos, dtype = bool))) \n",
    "    if np.random.randint(2, size=1)[0]:\n",
    "        row = np.invert(row)\n",
    "    return row"
   ]
  },
  {
   "cell_type": "code",
   "execution_count": 552,
   "id": "490ce6ff",
   "metadata": {},
   "outputs": [],
   "source": [
    "def sample_activation_region(d0, d1, n, data_func, d2=1, L=1, teacher=True):\n",
    "    if teacher:\n",
    "        X, y = generate_teacher_student_data(d0, d1, d2, L, n, data_func)\n",
    "    else:    \n",
    "        X, y = data_func(d0, n)\n",
    "    if d0 == 1:\n",
    "        A = np.zeros((d1, n))\n",
    "        for r in range(d1):\n",
    "            A[r,:] = sample_step_vector(n)\n",
    "        J = linalg.khatri_rao(A, X.T)\n",
    "        v =np.concatenate((-np.ones(int(d1/2)), np.ones(int(d1/2))))\n",
    "    else:\n",
    "        model = MLP(d0, d1, d2, L)\n",
    "#         J = jacobian(model, X).detach().numpy()\n",
    "        W = model.layers[0].weight.detach()\n",
    "        P =(W@X.T).detach().numpy()\n",
    "        A = P>0\n",
    "        J = linalg.khatri_rao(A, X.T)\n",
    "        v = model.last_layer.detach().numpy()\n",
    "    X = X.detach().numpy().T\n",
    "    r = rank(J)\n",
    "    has_global_min, lp_status = check_global(A,v,X,y,d0,d1,n)\n",
    "    return r, has_global_min, lp_status\n",
    "\n",
    "# def sample_activation_region(d0, d1, n, data_func, d2=1, L=1):\n",
    "#     model = MLP(d0, d1, d2, L)\n",
    "#     X, y = data_func(d0, n)\n",
    "#     J = jacobian(model, X).detach().numpy()\n",
    "#     r = rank(J)\n",
    "#     W = model.layers[0].weight.detach()\n",
    "#     P =(W@X.T).detach().numpy()\n",
    "#     A = P>0\n",
    "#     W = W.numpy()\n",
    "#     X = X.detach().numpy().T\n",
    "#     v = model.last_layer.detach().numpy()\n",
    "#     has_global_min = check_global(A,v,X,y,d0,d1,n)\n",
    "#     return r, has_global_min"
   ]
  },
  {
   "cell_type": "markdown",
   "id": "52b60887",
   "metadata": {},
   "source": [
    "## Test"
   ]
  },
  {
   "cell_type": "code",
   "execution_count": 472,
   "id": "90294a91",
   "metadata": {},
   "outputs": [],
   "source": [
    "# Define number data points, size of hidden layer, data dimension and number of trials\n",
    "d0=3\n",
    "N = np.arange(2,12,1)\n",
    "D1 = np.arange(10,20,1)\n",
    "T = 10\n",
    "\n",
    "poly = RandomPolynomialMapping(-1,1,2)\n",
    "# X,y= poly.generate_random_data(d0, n)"
   ]
  },
  {
   "cell_type": "code",
   "execution_count": 494,
   "id": "477379fc",
   "metadata": {},
   "outputs": [],
   "source": [
    "av_rank_J = np.zeros((len(D1), len(N)))\n",
    "av_globals = np.zeros((len(D1), len(N)))\n",
    "for i in range(len(D1)):\n",
    "    for j in range(len(N)):\n",
    "        print(\"Computing average stats for d1=\"+str(D1[i]) + \", n=\" + str(N[j]))\n",
    "        for t in range(T):\n",
    "            r, g, lp_status = sample_activation_region(d0, D1[i], N[j], generate_uniform_data, teacher = True)\n",
    "            print(\"LP status outcome: \"+ str(lp_status))\n",
    "            av_rank_J[i,j] += r\n",
    "            av_globals[i,j] += g\n",
    "        av_rank_J[i,j] = 100*av_rank_J[i,j]/(T*N[j])\n",
    "        av_globals[i,j] = av_globals[i,j]/T\n"
   ]
  },
  {
   "cell_type": "code",
   "execution_count": 474,
   "id": "8e886957",
   "metadata": {},
   "outputs": [
    {
     "data": {
      "image/png": "[encoded data removed]",
      "text/plain": [
       "<Figure size 864x504 with 4 Axes>"
      ]
     },
     "metadata": {
      "needs_background": "light"
     },
     "output_type": "display_data"
    }
   ],
   "source": [
    "fig, ax = plt.subplots(1,2,figsize=(12, 7))\n",
    "sns.heatmap(av_rank_J, ax=ax[0], xticklabels=N, yticklabels=D1)\n",
    "sns.heatmap(av_globals, ax=ax[1], xticklabels=N, yticklabels=D1)\n",
    "ax[0].invert_yaxis()\n",
    "ax[1].invert_yaxis()\n",
    "ax[0].set_xlabel(\"# Data Points\")\n",
    "ax[1].set_xlabel(\"# Data Points\")\n",
    "ax[0].set_ylabel(\"Network Width\")\n",
    "ax[1].set_ylabel(\"Network Width\")\n",
    "ax[0].set_title(\"% of non-empty activation regions which are full (column) rank\")\n",
    "ax[1].set_title(\"% of non-empty activation regions have a global minimum\")\n",
    "plt.tight_layout()"
   ]
  },
  {
   "cell_type": "markdown",
   "id": "97a4fecf",
   "metadata": {},
   "source": [
    "## Experiments for fixed d0"
   ]
  },
  {
   "cell_type": "code",
   "execution_count": 615,
   "id": "6679aee8",
   "metadata": {},
   "outputs": [],
   "source": [
    "# D0 = [1,2,3,5] \n",
    "D0 = [1]\n",
    "N = np.arange(100,151,10)\n",
    "D1 = np.arange(500,551,10)\n",
    "T = 1"
   ]
  },
  {
   "cell_type": "code",
   "execution_count": 616,
   "id": "d8dce3cc",
   "metadata": {},
   "outputs": [
    {
     "name": "stdout",
     "output_type": "stream",
     "text": [
      "Computing average statistics for d0= 1, d1=500, n=100\n",
      "LP status outcome: 2\n",
      "Computing average statistics for d0= 1, d1=500, n=110\n",
      "LP status outcome: 2\n",
      "Computing average statistics for d0= 1, d1=500, n=120\n",
      "LP status outcome: 2\n",
      "Computing average statistics for d0= 1, d1=500, n=130\n",
      "LP status outcome: 2\n",
      "Computing average statistics for d0= 1, d1=500, n=140\n",
      "LP status outcome: 2\n",
      "Computing average statistics for d0= 1, d1=500, n=150\n",
      "LP status outcome: 2\n",
      "Computing average statistics for d0= 1, d1=510, n=100\n",
      "LP status outcome: 2\n",
      "Computing average statistics for d0= 1, d1=510, n=110\n",
      "LP status outcome: 2\n",
      "Computing average statistics for d0= 1, d1=510, n=120\n",
      "LP status outcome: 2\n",
      "Computing average statistics for d0= 1, d1=510, n=130\n",
      "LP status outcome: 2\n",
      "Computing average statistics for d0= 1, d1=510, n=140\n",
      "LP status outcome: 2\n",
      "Computing average statistics for d0= 1, d1=510, n=150\n",
      "LP status outcome: 2\n",
      "Computing average statistics for d0= 1, d1=520, n=100\n",
      "LP status outcome: 2\n",
      "Computing average statistics for d0= 1, d1=520, n=110\n",
      "LP status outcome: 2\n",
      "Computing average statistics for d0= 1, d1=520, n=120\n",
      "LP status outcome: 2\n",
      "Computing average statistics for d0= 1, d1=520, n=130\n",
      "LP status outcome: 2\n",
      "Computing average statistics for d0= 1, d1=520, n=140\n",
      "LP status outcome: 2\n",
      "Computing average statistics for d0= 1, d1=520, n=150\n",
      "LP status outcome: 2\n",
      "Computing average statistics for d0= 1, d1=530, n=100\n",
      "LP status outcome: 2\n",
      "Computing average statistics for d0= 1, d1=530, n=110\n",
      "LP status outcome: 2\n",
      "Computing average statistics for d0= 1, d1=530, n=120\n",
      "LP status outcome: 2\n",
      "Computing average statistics for d0= 1, d1=530, n=130\n",
      "LP status outcome: 2\n",
      "Computing average statistics for d0= 1, d1=530, n=140\n",
      "LP status outcome: 2\n",
      "Computing average statistics for d0= 1, d1=530, n=150\n",
      "LP status outcome: 2\n",
      "Computing average statistics for d0= 1, d1=540, n=100\n",
      "LP status outcome: 2\n",
      "Computing average statistics for d0= 1, d1=540, n=110\n",
      "LP status outcome: 2\n",
      "Computing average statistics for d0= 1, d1=540, n=120\n",
      "LP status outcome: 2\n",
      "Computing average statistics for d0= 1, d1=540, n=130\n",
      "LP status outcome: 2\n",
      "Computing average statistics for d0= 1, d1=540, n=140\n",
      "LP status outcome: 2\n",
      "Computing average statistics for d0= 1, d1=540, n=150\n",
      "LP status outcome: 2\n",
      "Computing average statistics for d0= 1, d1=550, n=100\n",
      "LP status outcome: 2\n",
      "Computing average statistics for d0= 1, d1=550, n=110\n",
      "LP status outcome: 2\n",
      "Computing average statistics for d0= 1, d1=550, n=120\n",
      "LP status outcome: 2\n",
      "Computing average statistics for d0= 1, d1=550, n=130\n",
      "LP status outcome: 2\n",
      "Computing average statistics for d0= 1, d1=550, n=140\n",
      "LP status outcome: 2\n",
      "Computing average statistics for d0= 1, d1=550, n=150\n",
      "LP status outcome: 2\n"
     ]
    }
   ],
   "source": [
    "av_rank_J = np.zeros((len(D0), len(D1), len(N)))\n",
    "av_globals = np.zeros((len(D0), len(D1), len(N)))\n",
    "for k in range(len(D0)):\n",
    "    for i in range(len(D1)):\n",
    "        for j in range(len(N)):\n",
    "            print(\"Computing average statistics for d0= \"+str(D0[k])+\", d1=\"+str(D1[i]) + \", n=\" + str(N[j]))\n",
    "            for t in range(T):\n",
    "                r, g, lp_status = sample_activation_region(D0[k], D1[i], N[j], generate_uniform_data, teacher = False)\n",
    "                print(\"LP status outcome: \"+ str(lp_status))\n",
    "                av_rank_J[k,i,j] += r\n",
    "                av_globals[k,i,j] += g\n",
    "            av_rank_J[k,i,j] = 100*av_rank_J[k,i,j]/(T*N[j])\n",
    "            av_globals[k,i,j] = av_globals[k,i,j]/T"
   ]
  },
  {
   "cell_type": "code",
   "execution_count": 617,
   "id": "2c5b8acb",
   "metadata": {},
   "outputs": [
    {
     "data": {
      "image/png": "[encoded data removed]",
      "text/plain": [
       "<Figure size 864x504 with 4 Axes>"
      ]
     },
     "metadata": {
      "needs_background": "light"
     },
     "output_type": "display_data"
    }
   ],
   "source": [
    "fig, ax = plt.subplots(1,2,figsize=(12, 7))\n",
    "for j in range(2):\n",
    "    if j == 0:\n",
    "        sns.heatmap(av_rank_J[0], ax=ax[j], xticklabels=N, yticklabels=D1)\n",
    "        ax[j].set_title(\"% of non-empty activation regions which are full (column) rank, d0=\" + str(D0[0]))\n",
    "    else:\n",
    "        sns.heatmap(av_globals[0], ax=ax[j], xticklabels=N, yticklabels=D1)\n",
    "        ax[j].set_title(\"% of non-empty activation regions have a global minimum, d0=\" + str(D0[0]))\n",
    "    ax[j].invert_yaxis()\n",
    "    ax[j].set_xlabel(\"# Data Points\")\n",
    "    ax[j].set_ylabel(\"Network Width\")\n",
    "    plt.tight_layout()"
   ]
  },
  {
   "cell_type": "code",
   "execution_count": 600,
   "id": "a1a85f54",
   "metadata": {},
   "outputs": [],
   "source": [
    "fig, ax = plt.subplots(len(D0),2 ,figsize=(12, 7))\n",
    "for k in range(len(D0)):\n",
    "    for j in range(2):\n",
    "        if j == 0:\n",
    "            sns.heatmap(av_rank_J[k], ax=ax[k,j], xticklabels=N, yticklabels=D1)\n",
    "            ax[k,j].set_title(\"% of non-empty activation regions which are full (column) rank, d0=\" + str(D0[k]))\n",
    "        else:\n",
    "            sns.heatmap(av_globals[k], ax=ax[k,j], xticklabels=N, yticklabels=D1)\n",
    "            ax[k,j].set_title(\"% of non-empty activation regions have a global minimum, d0=\" + str(D0[k]))\n",
    "    ax[k,j].invert_yaxis()\n",
    "    ax[k,j].set_xlabel(\"# Data Points\")\n",
    "    ax[k,j].set_ylabel(\"Network Width\")\n",
    "plt.tight_layout()"
   ]
  },
  {
   "cell_type": "code",
   "execution_count": 614,
   "id": "affe468c",
   "metadata": {},
   "outputs": [],
   "source": [
    "### Place to do inspections"
   ]
  },
  {
   "cell_type": "code",
   "execution_count": 524,
   "id": "a7e741c9",
   "metadata": {},
   "outputs": [],
   "source": [
    "if teacher:\n",
    "    X, y = generate_teacher_student_data(d0, d1, d2, L, n, generate_uniform_data)\n",
    "else:    \n",
    "    X, y = generate_uniform_data(d0, n)\n",
    "if d0 == 1:\n",
    "    for r in range(d1):\n",
    "        A[r,:] = sample_step_vector(n)\n",
    "    J = linalg.khatri_rao(A, X.T)\n",
    "    v =np.concatenate((-np.ones(int(d1/2)), np.ones(int(d1/2))))\n",
    "else:\n",
    "    model = MLP(d0, d1, d2, L)\n",
    "#         J = jacobian(model, X).detach().numpy()\n",
    "    W = model.layers[0].weight.detach()\n",
    "    P =(W@X.T).detach().numpy()\n",
    "    A = P>0\n",
    "    J = linalg.khatri_rao(A, X.T)\n",
    "    v = model.last_layer.detach().numpy()\n",
    "X = X.detach().numpy().T\n",
    "r = rank(J)\n",
    "# has_global_min = check_global(A,v,X,y,d0,d1,n)"
   ]
  },
  {
   "cell_type": "code",
   "execution_count": 525,
   "id": "373a2c5c",
   "metadata": {},
   "outputs": [],
   "source": [
    "B = -2*A+1\n",
    "Eq = np.zeros((n, d0*d1))\n",
    "Iq = np.zeros((n*d1, d0*d1))\n",
    "# Form equality and inequality matrices for linear program\n",
    "for i in range(n):\n",
    "    x = X[:,i]\n",
    "    for j in range(d1):\n",
    "        start = j*d0\n",
    "        end = (j+1)*d0\n",
    "        Iq[(i*d1)+j,start:end]=B[j,i]*x\n",
    "        Eq[i,start:end]=v[j]*A[j,i]*x"
   ]
  },
  {
   "cell_type": "code",
   "execution_count": 526,
   "id": "228ffb5c",
   "metadata": {},
   "outputs": [
    {
     "data": {
      "text/plain": [
       "array([[ 0.03149468,  0.11624824,  0.        ,  0.        , -0.01523818,\n",
       "        -0.05624477,  0.0321091 ,  0.11851606, -0.09262424, -0.34188005,\n",
       "        -0.09523448, -0.35151455, -0.        , -0.        , -0.04036537,\n",
       "        -0.14899032, -0.00537885, -0.01985358, -0.        , -0.        ],\n",
       "       [ 0.        ,  0.        ,  0.        ,  0.        , -0.14835528,\n",
       "        -0.09570759,  0.31260654,  0.20167007, -0.        , -0.        ,\n",
       "        -0.92718023, -0.59814644, -0.        , -0.        , -0.39298767,\n",
       "        -0.25352588, -0.        , -0.        , -0.        , -0.        ],\n",
       "       [-0.13058718, -0.06572991, -0.04904878, -0.02468827,  0.        ,\n",
       "         0.        , -0.        , -0.        ,  0.38405013,  0.19330826,\n",
       "         0.        ,  0.        ,  0.2068451 ,  0.10411368,  0.        ,\n",
       "         0.        ,  0.02230246,  0.01122575,  0.01207325,  0.00607696],\n",
       "       [-0.21192211, -0.11726969, -0.07959833, -0.04404671,  0.        ,\n",
       "         0.        , -0.        , -0.        ,  0.62325197,  0.3448841 ,\n",
       "         0.        ,  0.        ,  0.33567655,  0.18575071,  0.        ,\n",
       "         0.        ,  0.03619333,  0.02002802,  0.01959295,  0.010842  ],\n",
       "       [ 0.        ,  0.        ,  0.        ,  0.        , -0.        ,\n",
       "        -0.        ,  0.3656224 ,  0.08813134, -0.        , -0.        ,\n",
       "        -1.08442342, -0.26139453, -0.        , -0.        , -0.45963559,\n",
       "        -0.11079272, -0.        , -0.        , -0.        , -0.        ]])"
      ]
     },
     "execution_count": 526,
     "metadata": {},
     "output_type": "execute_result"
    }
   ],
   "source": [
    "Eq"
   ]
  },
  {
   "cell_type": "code",
   "execution_count": 527,
   "id": "76d061b2",
   "metadata": {},
   "outputs": [
    {
     "data": {
      "text/plain": [
       "5"
      ]
     },
     "execution_count": 527,
     "metadata": {},
     "output_type": "execute_result"
    }
   ],
   "source": [
    "rank(Eq)"
   ]
  },
  {
   "cell_type": "code",
   "execution_count": 528,
   "id": "4a67144d",
   "metadata": {},
   "outputs": [
    {
     "data": {
      "text/plain": [
       "(5, 20)"
      ]
     },
     "execution_count": 528,
     "metadata": {},
     "output_type": "execute_result"
    }
   ],
   "source": [
    "Eq.shape"
   ]
  }
 ],
 "metadata": {
  "kernelspec": {
   "display_name": "loss_landscape",
   "language": "python",
   "name": "loss_landscape"
  },
  "language_info": {
   "codemirror_mode": {
    "name": "ipython",
    "version": 3
   },
   "file_extension": ".py",
   "mimetype": "text/x-python",
   "name": "python",
   "nbconvert_exporter": "python",
   "pygments_lexer": "ipython3",
   "version": "3.10.4"
  }
 },
 "nbformat": 4,
 "nbformat_minor": 5
}
